{
 "cells": [
  {
   "cell_type": "code",
   "execution_count": 1,
   "metadata": {
    "collapsed": true
   },
   "outputs": [],
   "source": [
    "# Import libraries\n",
    "\n",
    "from __future__ import print_function   # bring print() function to Python 2\n",
    "import numpy as np\n",
    "import matplotlib.pylab as plt\n",
    "import matplotlib\n",
    "%matplotlib inline\n",
    "import tensorflow as tf  \n",
    "from sklearn import metrics\n",
    "from numpy import genfromtxt\n",
    "import random\n",
    "import pandas as pd"
   ]
  },
  {
   "cell_type": "code",
   "execution_count": 2,
   "metadata": {
    "collapsed": true
   },
   "outputs": [],
   "source": [
    "# Model configurations\n",
    "\n",
    "n_steps = 500                      # number of time steps\n",
    "n_hidden = 10                       # number of neurons on each hidden layer\n",
    "n_classes = 2                       # number of classes\n",
    "n_features = 4                      # number of features\n",
    "learning_rate = 0.002                \n",
    "lambda_loss_amount = 0.001\n",
    "training_iters = 81000              # Loop 300 times on the dataset\n",
    "batch_size = 50                     # number of samples feed into the LSTM in each iteration\n",
    "display_iter = 100                  # To show test set accuracy during training\n",
    "\n",
    "with open('model_configuration.txt', 'w') as f:\n",
    "    f.write(\"n_steps: {}\".format(n_steps) + '\\n')\n",
    "    f.write(\"n_hidden: {}\".format(n_hidden) + '\\n')\n",
    "    f.write(\"n_classes: {}\".format(n_classes) + '\\n')\n",
    "    f.write(\"n_features: {}\".format(n_features) + '\\n')\n",
    "    f.write(\"learning_rate: {}\".format(learning_rate) + '\\n')\n",
    "    f.write(\"lambda_loss_amount: {}\".format(lambda_loss_amount) + '\\n')\n",
    "    f.write(\"training_iters: {}\".format(training_iters) + '\\n')\n",
    "    f.write(\"batch_size: {}\".format(batch_size) + '\\n')\n",
    "    f.write(\"display_iter: {}\".format(display_iter) + '\\n')"
   ]
  },
  {
   "cell_type": "code",
   "execution_count": 3,
   "metadata": {},
   "outputs": [
    {
     "name": "stdout",
     "output_type": "stream",
     "text": [
      "Loading data done\n"
     ]
    }
   ],
   "source": [
    "# Load and change data format\n",
    "\n",
    "# load X data, 4 features\n",
    "\n",
    "q_df = pd.read_csv(\"../complete_data_v2/q_5000.csv\", delimiter=\",\", usecols=range(0,n_steps), header=None)\n",
    "r_df = pd.read_csv(\"../complete_data_v2/r_5000.csv\", delimiter=\",\", usecols=range(0,n_steps), header=None)\n",
    "s_df = pd.read_csv(\"../complete_data_v2/s_5000.csv\", delimiter=\",\", usecols=range(0,n_steps), header=None)\n",
    "d_df = pd.read_csv(\"../complete_data_v2/duration_5000.csv\", delimiter=\",\", usecols=range(0,n_steps), header=None)\n",
    "\n",
    "q = q_df.values\n",
    "r = r_df.values\n",
    "s = s_df.values\n",
    "d = d_df.values\n",
    "\n",
    "# q = np.loadtxt(open(\"../complete_data_v2/q_5000.csv\", \"rb\"), delimiter=\",\", usecols=range(0,n_steps))\n",
    "# r = np.loadtxt(open(\"../complete_data_v2/r_5000.csv\", \"rb\"), delimiter=\",\", usecols=range(0,n_steps))\n",
    "# s = np.loadtxt(open(\"../complete_data_v2/s_5000.csv\", \"rb\"), delimiter=\",\", usecols=range(0,n_steps))\n",
    "# d = np.loadtxt(open(\"../complete_data_v2/duration_5000.csv\", \"rb\"), delimiter=\",\", usecols=range(0,n_steps))\n",
    "\n",
    "# combine the 2d arrays into a 3d array\n",
    "\n",
    "multi_3d = np.array([q,r,s,d])\n",
    "\n",
    "# transpose into the format required by LSTM (samples,time steps,features)\n",
    "\n",
    "X_data = np.transpose(multi_3d,(1,2,0))\n",
    "\n",
    "# load Y data\n",
    "\n",
    "Y_df = pd.read_csv(\"../complete_data_v2/class_5000_label.csv\", delimiter=\",\", header=None)\n",
    "Y_data = Y_df[0].values\n",
    "\n",
    "#Y_data = np.loadtxt(open(\"../complete_data_v2/class_5000_label.csv\", \"rb\"), delimiter=\",\")\n",
    "\n",
    "print('Loading data done')"
   ]
  },
  {
   "cell_type": "code",
   "execution_count": 4,
   "metadata": {
    "collapsed": true
   },
   "outputs": [],
   "source": [
    "# split into training and test data (4:1)\n",
    "# PE: 133:58\n",
    "# Non PE: 133:34\n",
    "\n",
    "X_train_p = X_data[:133]\n",
    "X_train_n = X_data[191:324]\n",
    "X_train = np.vstack((X_train_p, X_train_n))\n",
    "\n",
    "X_test_p = X_data[133:191]\n",
    "X_test_n = X_data[324:]\n",
    "X_test = np.vstack((X_test_p, X_test_n))\n",
    "\n",
    "Y_train_p = Y_data[:133]\n",
    "Y_train_n = Y_data[191:324]\n",
    "y_train = np.concatenate((Y_train_p, Y_train_n))\n",
    "\n",
    "Y_test_p = Y_data[133:191]\n",
    "Y_test_n = Y_data[324:]\n",
    "y_test = np.concatenate((Y_test_p, Y_test_n))\n"
   ]
  },
  {
   "cell_type": "code",
   "execution_count": 5,
   "metadata": {},
   "outputs": [
    {
     "name": "stdout",
     "output_type": "stream",
     "text": [
      "Transforming data done\n"
     ]
    }
   ],
   "source": [
    "# shuffle the data to make each batch balanced\n",
    "\n",
    "np.random.seed(1)\n",
    "\n",
    "combine_train = list(zip(X_train, y_train))\n",
    "random.shuffle(combine_train)\n",
    "X_train_shuffled, y_train_shuffled = zip(*combine_train)\n",
    "X_train_shuffled = np.asarray(X_train_shuffled)           # change tuple back into array          \n",
    "y_train_shuffled = np.asarray(y_train_shuffled)\n",
    "\n",
    "combine_test = list(zip(X_test, y_test))\n",
    "random.shuffle(combine_test)\n",
    "X_test_shuffled, y_test_shuffled = zip(*combine_test)\n",
    "X_test_shuffled = np.asarray(X_test_shuffled)\n",
    "y_test_shuffled = np.asarray(y_test_shuffled)\n",
    "\n",
    "print('Transforming data done')"
   ]
  },
  {
   "cell_type": "code",
   "execution_count": 6,
   "metadata": {
    "collapsed": true
   },
   "outputs": [],
   "source": [
    "# The lstm model skeleton function\n",
    "\n",
    "def LSTM_RNN(_X, _weights, _biases):\n",
    "    # input shape: (batch_size, n_steps, n_features)\n",
    "    _X = tf.transpose(_X, [1, 0, 2])  # permute n_steps and batch_size\n",
    "    # Reshape to prepare input to hidden activation\n",
    "    _X = tf.reshape(_X, [-1, n_features]) \n",
    "    # new shape: (n_steps*batch_size, n_features)\n",
    "    \n",
    "    # Linear activation\n",
    "    _X = tf.nn.relu(tf.matmul(_X, _weights['hidden']) + _biases['hidden'])\n",
    "    # Split data because rnn cell needs a list of inputs for the RNN inner loop\n",
    "    _X = tf.split(_X, n_steps, 0) \n",
    "    # new shape: n_steps * (batch_size, n_hidden)\n",
    "\n",
    "    lstm_cell_1 = tf.contrib.rnn.BasicLSTMCell(n_hidden, forget_bias=1.0, state_is_tuple=True)\n",
    "    #lstm_cell_2 = tf.contrib.rnn.BasicLSTMCell(n_hidden, forget_bias=1.0, state_is_tuple=True)\n",
    "    #lstm_cells = tf.contrib.rnn.MultiRNNCell([lstm_cell_1, lstm_cell_2], state_is_tuple=True)\n",
    "    # Get LSTM cell output\n",
    "    outputs, states = tf.contrib.rnn.static_rnn(lstm_cell_1, _X, dtype=tf.float32)\n",
    "\n",
    "    # Get last time step's output feature for a \"many to one\" style classifier, \n",
    "    # as in the image describing RNNs at the top of this page\n",
    "    lstm_last_output = outputs[-1]\n",
    "    \n",
    "    # Linear activation\n",
    "    return tf.matmul(lstm_last_output, _weights['out']) + _biases['out']"
   ]
  },
  {
   "cell_type": "code",
   "execution_count": 7,
   "metadata": {
    "collapsed": true
   },
   "outputs": [],
   "source": [
    "# Helper functions\n",
    "\n",
    "def extract_batch_size(_train, step, batch_size):\n",
    "    # Function to fetch a \"batch_size\" amount of data from \"(X|y)_train\" data. \n",
    "    \n",
    "    shape = list(_train.shape)\n",
    "    shape[0] = batch_size\n",
    "    batch_s = np.empty(shape)\n",
    "\n",
    "    for i in range(batch_size):\n",
    "        # Loop index\n",
    "        index = ((step-1)*batch_size + i) % len(_train)\n",
    "        batch_s[i] = _train[index] \n",
    "\n",
    "    return batch_s"
   ]
  },
  {
   "cell_type": "code",
   "execution_count": 8,
   "metadata": {
    "collapsed": true
   },
   "outputs": [],
   "source": [
    "def one_hot(y_):\n",
    "    # Function to encode output labels from number indexes \n",
    "    \n",
    "    y_ = y_.reshape(len(y_))\n",
    "    return np.eye(2)[np.array(y_, dtype=np.int32)]  # Returns FLOATS"
   ]
  },
  {
   "cell_type": "code",
   "execution_count": 9,
   "metadata": {},
   "outputs": [
    {
     "name": "stdout",
     "output_type": "stream",
     "text": [
      "Initialization done.\n",
      "CPU times: user 58.1 s, sys: 553 ms, total: 58.7 s\n",
      "Wall time: 58.7 s\n"
     ]
    }
   ],
   "source": [
    "%%time\n",
    "\n",
    "# Initialize the lstm network with random weights and biases\n",
    "\n",
    "# Graph input/output\n",
    "x = tf.placeholder(tf.float32, [None, n_steps, n_features])\n",
    "y = tf.placeholder(tf.float32, [None, n_classes])\n",
    "\n",
    "# Graph weights\n",
    "weights = {\n",
    "    'hidden': tf.Variable(tf.random_normal([n_features, n_hidden])), # Hidden layer weights\n",
    "    'out': tf.Variable(tf.random_normal([n_hidden, n_classes], mean=1.0))\n",
    "}\n",
    "biases = {\n",
    "    'hidden': tf.Variable(tf.random_normal([n_hidden])),\n",
    "    'out': tf.Variable(tf.random_normal([n_classes]))\n",
    "}\n",
    "\n",
    "pred = LSTM_RNN(x, weights, biases)\n",
    "\n",
    "# Loss, optimizer and evaluation\n",
    "l2 = lambda_loss_amount * sum(\n",
    "    tf.nn.l2_loss(tf_var) for tf_var in tf.trainable_variables()\n",
    ") # L2 loss prevents this overkill neural network to overfit the data\n",
    "cost = tf.reduce_mean(tf.nn.softmax_cross_entropy_with_logits(labels=y, logits=pred)) + l2 # Softmax loss\n",
    "optimizer = tf.train.AdamOptimizer(learning_rate=learning_rate).minimize(cost) # Adam Optimizer\n",
    "\n",
    "correct_pred = tf.equal(tf.argmax(pred,1), tf.argmax(y,1))\n",
    "accuracy = tf.reduce_mean(tf.cast(correct_pred, tf.float32))\n",
    "\n",
    "print('Initialization done.')\n"
   ]
  },
  {
   "cell_type": "code",
   "execution_count": 10,
   "metadata": {},
   "outputs": [
    {
     "name": "stdout",
     "output_type": "stream",
     "text": [
      "Training done\n",
      "CPU times: user 10min 24s, sys: 2min 14s, total: 12min 38s\n",
      "Wall time: 5min 39s\n"
     ]
    }
   ],
   "source": [
    "%%time\n",
    "\n",
    "# Train the model\n",
    "\n",
    "# To keep track of training's performance\n",
    "test_losses = []\n",
    "test_accuracies = []\n",
    "train_losses = []\n",
    "train_accuracies = []\n",
    "\n",
    "# Launch the graph\n",
    "sess = tf.InteractiveSession(config=tf.ConfigProto(log_device_placement=True))\n",
    "init = tf.global_variables_initializer()\n",
    "local = tf.local_variables_initializer()\n",
    "sess.run(init)\n",
    "sess.run(local)\n",
    "\n",
    "with open('train_log.txt', 'w') as f:\n",
    "    # Perform Training steps with \"batch_size\" amount of example data at each loop\n",
    "    step = 1\n",
    "    while step * batch_size <= training_iters:\n",
    "        batch_xs =         extract_batch_size(X_train_shuffled, step, batch_size)\n",
    "        batch_ys = one_hot(extract_batch_size(y_train_shuffled, step, batch_size))\n",
    "\n",
    "        # Fit training using batch data\n",
    "        _, loss, acc = sess.run(\n",
    "            [optimizer, cost, accuracy],\n",
    "            feed_dict={\n",
    "                x: batch_xs, \n",
    "                y: batch_ys\n",
    "            }\n",
    "        )\n",
    "        train_losses.append(loss)\n",
    "        train_accuracies.append(acc)\n",
    "\n",
    "        # Evaluate network only at some steps for faster training: \n",
    "        if (step*batch_size % display_iter == 0) or (step == 1) or (step * batch_size > training_iters):\n",
    "\n",
    "            # To not spam console, show training accuracy/loss in this \"if\"\n",
    "            f.write(\"Training iter #\" + str(step*batch_size) + \\\n",
    "                  \":   Batch Loss = \" + \"{:.6f}\".format(loss) + \\\n",
    "                  \", Accuracy = {}\".format(acc) + '\\n')\n",
    "\n",
    "            # Evaluation on the test set (no learning made here - just evaluation for diagnosis)\n",
    "            loss, acc = sess.run(\n",
    "                [cost, accuracy], \n",
    "                feed_dict={\n",
    "                    x: X_test_shuffled,\n",
    "                    y: one_hot(y_test_shuffled)\n",
    "                }\n",
    "            )\n",
    "            test_losses.append(loss)\n",
    "            test_accuracies.append(acc)\n",
    "            f.write(\"PERFORMANCE ON TEST SET: \" + \\\n",
    "                  \"Batch Loss = {}\".format(loss) + \\\n",
    "                  \", Accuracy = {}\".format(acc) + '\\n')\n",
    "\n",
    "        step += 1\n",
    "\n",
    "    f.write(\"Optimization Finished!\" + '\\n')\n",
    "\n",
    "    # Accuracy for test data\n",
    "\n",
    "    one_hot_predictions, accuracy, final_loss = sess.run(\n",
    "        [pred, accuracy, cost],\n",
    "        feed_dict={\n",
    "            x: X_test_shuffled,\n",
    "            y: one_hot(y_test_shuffled)\n",
    "        }\n",
    "    )\n",
    "\n",
    "    test_losses.append(final_loss)\n",
    "    test_accuracies.append(accuracy)\n",
    "\n",
    "    f.write(\"FINAL RESULT: \" + \\\n",
    "          \"Batch Loss = {}\".format(final_loss) + \\\n",
    "          \", Accuracy = {}\".format(accuracy) + '\\n')\n",
    "    \n",
    "print(\"Training done\")\n"
   ]
  },
  {
   "cell_type": "code",
   "execution_count": 11,
   "metadata": {},
   "outputs": [
    {
     "data": {
      "text/plain": [
       "'lstm_1_layer_model'"
      ]
     },
     "execution_count": 11,
     "metadata": {},
     "output_type": "execute_result"
    }
   ],
   "source": [
    "# save the model\n",
    "\n",
    "saver = tf.train.Saver()\n",
    "saver.save(sess, 'lstm_1_layer_model')"
   ]
  },
  {
   "cell_type": "code",
   "execution_count": 12,
   "metadata": {
    "collapsed": true
   },
   "outputs": [],
   "source": [
    "# save the losses and accuracies to file\n",
    "\n",
    "test_result_data = np.column_stack((test_losses, test_accuracies))\n",
    "train_result_data = np.column_stack((train_losses, train_accuracies))\n",
    "\n",
    "np.savetxt(\"test_loss_accuracy.csv\", test_result_data, delimiter=\",\", header=\"test_loss,test_accuracy\")\n",
    "np.savetxt(\"train_loss_accuracy.csv\", train_result_data, delimiter=\",\", header=\"train_loss,train_accuracy\")"
   ]
  },
  {
   "cell_type": "code",
   "execution_count": 13,
   "metadata": {},
   "outputs": [
    {
     "data": {
      "image/png": "[encoded data removed]",
      "text/plain": [
       "<matplotlib.figure.Figure at 0x7fed146f56d8>"
      ]
     },
     "metadata": {},
     "output_type": "display_data"
    }
   ],
   "source": [
    "width = 12\n",
    "height = 6\n",
    "plt.figure(figsize=(width, height))\n",
    "\n",
    "# indep_train_axis = np.array(range(batch_size, (len(train_losses)+1)*batch_size, batch_size))\n",
    "# plt.plot(indep_train_axis, np.array(train_losses),     \"c--\", label=\"Train losses\")\n",
    "# plt.plot(indep_train_axis, np.array(train_accuracies), \"r--\", label=\"Train accuracies\")\n",
    "\n",
    "indep_test_axis = np.append(\n",
    "    np.array(range(batch_size, len(test_losses)*display_iter, display_iter)[:-1]),\n",
    "    [training_iters]\n",
    ")\n",
    "plt.plot(indep_test_axis, np.array(test_losses),     \"b-\", label=\"Test losses\")\n",
    "plt.plot(indep_test_axis, np.array(test_accuracies), \"g-\", label=\"Test accuracies\")\n",
    "\n",
    "plt.title(\"Training progress\")\n",
    "plt.legend(loc='upper right', shadow=False)\n",
    "plt.ylabel('Loss or Accuracy')\n",
    "plt.xlabel('Training iteration')\n",
    "\n",
    "plt.savefig('test_results.png')\n",
    "plt.show()"
   ]
  },
  {
   "cell_type": "code",
   "execution_count": 14,
   "metadata": {},
   "outputs": [
    {
     "data": {
      "image/png": "[encoded data removed]",
      "text/plain": [
       "<matplotlib.figure.Figure at 0x7fecddf5df98>"
      ]
     },
     "metadata": {},
     "output_type": "display_data"
    }
   ],
   "source": [
    "width = 12\n",
    "height = 6\n",
    "plt.figure(figsize=(width, height))\n",
    "\n",
    "indep_train_axis = np.array(range(batch_size, (len(train_losses)+1)*batch_size, batch_size))\n",
    "plt.plot(indep_train_axis, np.array(train_accuracies), \"r-\", label=\"Train accuracies\")\n",
    "plt.plot(indep_train_axis, np.array(train_losses),     \"c-\", label=\"Train losses\")\n",
    "\n",
    "\n",
    "# indep_test_axis = np.append(\n",
    "#     np.array(range(batch_size, len(test_losses)*display_iter, display_iter)[:-1]),\n",
    "#     [training_iters]\n",
    "# )\n",
    "# plt.plot(indep_test_axis, np.array(test_losses),     \"b-\", label=\"Test losses\")\n",
    "# plt.plot(indep_test_axis, np.array(test_accuracies), \"g-\", label=\"Test accuracies\")\n",
    "\n",
    "plt.title(\"Training progress\")\n",
    "plt.legend(loc='upper right', shadow=False)\n",
    "plt.ylabel('Loss or Accuracy')\n",
    "plt.xlabel('Training iteration')\n",
    "\n",
    "plt.savefig('train_results.png')\n",
    "plt.show()"
   ]
  },
  {
   "cell_type": "code",
   "execution_count": 15,
   "metadata": {
    "collapsed": true
   },
   "outputs": [],
   "source": [
    "# Classify all data\n",
    "\n",
    "classification_all = sess.run(\n",
    "    tf.argmax(pred,1),\n",
    "    feed_dict={\n",
    "        x: X_data,\n",
    "    }\n",
    ")\n",
    "\n",
    "np.savetxt(\"classification_all.csv\", classification_all, delimiter=',')"
   ]
  },
  {
   "cell_type": "code",
   "execution_count": 16,
   "metadata": {
    "collapsed": true
   },
   "outputs": [],
   "source": [
    "# Get the probability of developing PE\n",
    "\n",
    "probability_all = sess.run(\n",
    "    tf.nn.softmax(pred),\n",
    "    feed_dict={\n",
    "        x: X_data,\n",
    "    }\n",
    ")\n",
    "\n",
    "np.savetxt('probability_all.csv', probability_all[:,1], delimiter=',')"
   ]
  },
  {
   "cell_type": "code",
   "execution_count": 17,
   "metadata": {},
   "outputs": [
    {
     "name": "stdout",
     "output_type": "stream",
     "text": [
      "Testing Accuracy: 47.826087474823%\n",
      "\n",
      "Precision: 47.169384057971016%\n",
      "Recall: 47.82608695652174%\n",
      "f1_score: 47.47772492798285%\n",
      "AUC: 43.4077079107505%\n",
      "\n",
      "Confusion Matrix:\n",
      "[[ 9 25]\n",
      " [23 35]]\n",
      "\n",
      "Confusion matrix (normalised to % of total test data):\n",
      "[[  9.78260899  27.17391205]\n",
      " [ 25.          38.04347992]]\n"
     ]
    }
   ],
   "source": [
    "# results\n",
    "\n",
    "predictions = one_hot_predictions.argmax(1)\n",
    "\n",
    "precision = metrics.precision_score(y_test_shuffled, predictions, average=\"weighted\")\n",
    "recall = metrics.recall_score(y_test_shuffled, predictions, average=\"weighted\")\n",
    "f1_score = metrics.f1_score(y_test_shuffled, predictions, average=\"weighted\")\n",
    "auc = metrics.roc_auc_score(y_test_shuffled, predictions, average=\"weighted\")\n",
    "confusion_matrix = metrics.confusion_matrix(y_test_shuffled, predictions)\n",
    "normalised_confusion_matrix = np.array(confusion_matrix, dtype=np.float32)/np.sum(confusion_matrix)*100\n",
    "\n",
    "with open('metrics.txt', 'w') as f:\n",
    "    f.write(\"Testing Accuracy: {}\".format(accuracy) + '\\n')\n",
    "    f.write(\"Precision: {}\".format(precision) + '\\n')\n",
    "    f.write(\"Recall: {}\".format(recall) + '\\n')\n",
    "    f.write(\"f1_score: {}\".format(f1_score) + '\\n')\n",
    "    f.write(\"AUC: {}\".format(auc) + '\\n')\n",
    "    f.write(\"Confusion Matrix:\" + '\\n')\n",
    "    f.write(str(confusion_matrix[0,0]) + ',' + str(confusion_matrix[0,1]) + '\\n')\n",
    "    f.write(str(confusion_matrix[1,0]) + ',' + str(confusion_matrix[1,1]) + '\\n')\n",
    "    f.write(\"Confusion matrix (normalised to % of total test data):\" + '\\n')\n",
    "    f.write(str(normalised_confusion_matrix[0,0]) + ',' + str(normalised_confusion_matrix[0,1]) + '\\n')\n",
    "    f.write(str(normalised_confusion_matrix[1,0]) + ',' + str(normalised_confusion_matrix[1,1]) + '\\n')\n",
    "\n",
    "\n",
    "print(\"Testing Accuracy: {}%\".format(100*accuracy))\n",
    "print(\"\")\n",
    "print(\"Precision: {}%\".format(100*metrics.precision_score(y_test_shuffled, predictions, average=\"weighted\")))\n",
    "print(\"Recall: {}%\".format(100*metrics.recall_score(y_test_shuffled, predictions, average=\"weighted\")))\n",
    "print(\"f1_score: {}%\".format(100*metrics.f1_score(y_test_shuffled, predictions, average=\"weighted\")))\n",
    "print(\"AUC: {}%\".format(100*metrics.roc_auc_score(y_test_shuffled, predictions, average=\"weighted\")))\n",
    "print(\"\")\n",
    "print(\"Confusion Matrix:\")\n",
    "print(confusion_matrix)\n",
    "print(\"\")\n",
    "print(\"Confusion matrix (normalised to % of total test data):\")\n",
    "print(normalised_confusion_matrix)\n",
    "\n",
    "# # Plot Results: \n",
    "# width = 12\n",
    "# height = 12\n",
    "# plt.figure(figsize=(width, height))\n",
    "# plt.imshow(\n",
    "#     normalised_confusion_matrix, \n",
    "#     interpolation='nearest', \n",
    "#     cmap=plt.cm.rainbow\n",
    "# )\n",
    "# plt.title(\"Confusion matrix \\n(normalised to % of total test data)\")\n",
    "# plt.colorbar()\n",
    "# tick_marks = np.arange(n_classes)\n",
    "# plt.xticks(tick_marks, ['PE','Non-PE'], rotation=90)\n",
    "# plt.yticks(tick_marks, ['PE','Non-PE'])\n",
    "# plt.tight_layout()\n",
    "# plt.ylabel('True label')\n",
    "# plt.xlabel('Predicted label')\n",
    "# plt.savefig('confusion_matrix.png')\n",
    "\n",
    "# # plt.show()"
   ]
  },
  {
   "cell_type": "code",
   "execution_count": null,
   "metadata": {
    "collapsed": true
   },
   "outputs": [],
   "source": []
  }
 ],
 "metadata": {
  "kernelspec": {
   "display_name": "Python 3",
   "language": "python",
   "name": "python3"
  },
  "language_info": {
   "codemirror_mode": {
    "name": "ipython",
    "version": 3
   },
   "file_extension": ".py",
   "mimetype": "text/x-python",
   "name": "python",
   "nbconvert_exporter": "python",
   "pygments_lexer": "ipython3",
   "version": "3.4.5"
  }
 },
 "nbformat": 4,
 "nbformat_minor": 2
}
